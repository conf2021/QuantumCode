{
 "cells": [
  {
   "cell_type": "code",
   "execution_count": 5,
   "id": "fd16acc9-7924-47e0-8b67-902fe800f08d",
   "metadata": {},
   "outputs": [
    {
     "data": {
      "text/plain": [
       "[<IBMBackend('ibm_algiers')>, <IBMBackend('ibm_brisbane')>]"
      ]
     },
     "execution_count": 5,
     "metadata": {},
     "output_type": "execute_result"
    }
   ],
   "source": [
    "from qiskit_ibm_runtime import QiskitRuntimeService, Sampler, Session, Options\n",
    "service = QiskitRuntimeService(channel=\"ibm_cloud\")\n",
    "service.backends()\n",
    "service.backends(simulator=False, operational=True, min_num_qubits=5)\n"
   ]
  },
  {
   "cell_type": "code",
   "execution_count": 6,
   "id": "f5e3b46d-d111-4d3b-8059-e6dc561b793b",
   "metadata": {},
   "outputs": [
    {
     "data": {
      "text/plain": [
       "'ibmq_qasm_simulator'"
      ]
     },
     "execution_count": 6,
     "metadata": {},
     "output_type": "execute_result"
    }
   ],
   "source": [
    "backend = service.backend('ibmq_qasm_simulator')\n",
    "backend.name #returns the backend's name"
   ]
  },
  {
   "cell_type": "code",
   "execution_count": 7,
   "id": "3aa1ed37-5095-4595-b36e-82bff0894aec",
   "metadata": {},
   "outputs": [],
   "source": [
    "service = QiskitRuntimeService(channel=\"ibm_cloud\")\n",
    "options = Options()\n",
    "options.resilience_level=1 \n",
    "options.execution.shots=1024\n",
    "from qiskit import QuantumCircuit\n",
    "circuit = QuantumCircuit(2)\n",
    "circuit.h(0)\n",
    "circuit.cx(0,1)\n",
    "circuit.measure_all()"
   ]
  },
  {
   "cell_type": "code",
   "execution_count": 10,
   "id": "04ad11fb-6aff-4fae-a6bb-41a5795dcd8b",
   "metadata": {},
   "outputs": [
    {
     "name": "stdout",
     "output_type": "stream",
     "text": [
      "  >SamplerResult(quasi_dists=[{1: 0.4931640625, 2: 0.5068359375}], metadata=[{'shots': 1024, 'readout_mitigation_overhead': 1.0, 'readout_mitigation_time': 0.013909881003201008}])\n"
     ]
    },
    {
     "data": {
      "image/png": "[encoded data removed]",
      "text/plain": [
       "<Figure size 454.517x284.278 with 1 Axes>"
      ]
     },
     "metadata": {},
     "output_type": "display_data"
    }
   ],
   "source": [
    "from qiskit.visualization import plot_histogram\n",
    "with Session(backend=backend):\n",
    "    sampler = Sampler(options=options)\n",
    "    job = sampler.run(circuit)\n",
    "    result = job.result()\n",
    "    print(f\"  >{result}\")\n",
    "    display(circuit.draw(\"mpl\"))"
   ]
  },
  {
   "cell_type": "code",
   "execution_count": 9,
   "id": "dc35c85b-f835-48d3-a74b-b4603562ea99",
   "metadata": {},
   "outputs": [
    {
     "data": {
      "text/plain": [
       "<qiskit.circuit.instructionset.InstructionSet at 0x166373460>"
      ]
     },
     "execution_count": 9,
     "metadata": {},
     "output_type": "execute_result"
    }
   ],
   "source": [
    "from qiskit import QuantumRegister, ClassicalRegister\n",
    "\n",
    "q = QuantumRegister(2,'q')\n",
    "c = ClassicalRegister(2,'c')\n",
    "circuit = QuantumCircuit(q,c)\n",
    "circuit.x(q[1]) # Pauli-X gate \n",
    "circuit.h(q[0]) # Hadamard gate \n",
    "circuit.cx(q[0],q[1]) # CNOT gate\\\n",
    "circuit.measure(q,c) # Qubit Measurment"
   ]
  },
  {
   "cell_type": "code",
   "execution_count": null,
   "id": "7cbc852f-7664-4e82-a79f-6fe084a54ecb",
   "metadata": {},
   "outputs": [],
   "source": []
  }
 ],
 "metadata": {
  "kernelspec": {
   "display_name": "Python 3 (ipykernel)",
   "language": "python",
   "name": "python3"
  },
  "language_info": {
   "codemirror_mode": {
    "name": "ipython",
    "version": 3
   },
   "file_extension": ".py",
   "mimetype": "text/x-python",
   "name": "python",
   "nbconvert_exporter": "python",
   "pygments_lexer": "ipython3",
   "version": "3.9.6"
  }
 },
 "nbformat": 4,
 "nbformat_minor": 5
}
