{
 "cells": [
  {
   "cell_type": "code",
   "execution_count": null,
   "id": "fd16acc9-7924-47e0-8b67-902fe800f08d",
   "metadata": {},
   "outputs": [
    {
     "name": "stdout",
     "output_type": "stream",
     "text": [
      "ckqhsqp2ij8q2f9vifu0\n",
      "JobStatus.QUEUED\n"
     ]
    }
   ],
   "source": [
    "#Imports\n",
    "from qiskit_ibm_runtime import QiskitRuntimeService, Sampler, Session, Options\n",
    "from qiskit import QuantumCircuit, execute\n",
    "from qiskit_ibm_runtime import QiskitRuntimeService, Session, Estimator, Options\n",
    "from qiskit.visualization import plot_distribution\n",
    "\n",
    "#Cloud configuration\n",
    "service = QiskitRuntimeService(channel=\"ibm_cloud\")\n",
    "service.backends()\n",
    "service.backends(simulator=False, operational=True, min_num_qubits=5)\n",
    "#backend = service.backend('ibmq_qasm_simulator') # IBM's Quantum Simulator\n",
    "backend = service.backend('ibm_brisbane') # IBM's Quantum computer\n",
    "\n",
    "#Quantum program\n",
    "q = QuantumRegister(2,'Q') # 2 Qubit initialization\n",
    "circuit = QuantumCircuit(q) \n",
    "circuit.h(q[0]) # Hadamard gate puts the first qubit in the state of superposition\n",
    "circuit.x(q[1]) # X gate is the NOT gate. It flips the second qubit. If this line is removed the end result will be the entanglement in 00 + 11 states.\n",
    "circuit.cnot(q[0],q[1]) # CNOT gate flips the second bit if the first is 1 else leaves it alone\n",
    "circuit.measure_all() # Measurement\n",
    "\n",
    "#Job execution\n",
    "options = Options()\n",
    "options.execution.shots=1024\n",
    "with Session(backend=backend) as session:\n",
    "    sampler = Sampler(circuit, backend , options=options)\n",
    "    job = sampler.run(circuit)\n",
    "    print(job.job_id())\n",
    "    print(job.status())\n",
    "    results = job.result()\n",
    "    session.close() # Closes the session\n",
    "\n",
    "#Display results\n",
    "print(circuit)\n",
    "plot_distribution(results.quasi_dists[0].binary_probabilities())"
   ]
  },
  {
   "cell_type": "code",
   "execution_count": null,
   "id": "f3072f70-55a2-4272-a2a8-f24c331db74c",
   "metadata": {},
   "outputs": [],
   "source": []
  }
 ],
 "metadata": {
  "kernelspec": {
   "display_name": "Python 3 (ipykernel)",
   "language": "python",
   "name": "python3"
  },
  "language_info": {
   "codemirror_mode": {
    "name": "ipython",
    "version": 3
   },
   "file_extension": ".py",
   "mimetype": "text/x-python",
   "name": "python",
   "nbconvert_exporter": "python",
   "pygments_lexer": "ipython3",
   "version": "3.9.6"
  }
 },
 "nbformat": 4,
 "nbformat_minor": 5
}
